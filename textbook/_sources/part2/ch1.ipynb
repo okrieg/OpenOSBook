{
 "cells": [
  {
   "cell_type": "markdown",
   "id": "14840496-307f-4b4d-bf09-2687f4af1345",
   "metadata": {},
   "source": [
    "# Beyond the basics"
   ]
  },
  {
   "cell_type": "code",
   "execution_count": null,
   "id": "b2a7e1ef-9680-4aae-a782-34c936ff3c62",
   "metadata": {},
   "outputs": [],
   "source": []
  }
 ],
 "metadata": {
  "kernelspec": {
   "display_name": "Python 3 (ipykernel)",
   "language": "python",
   "name": "python3"
  },
  "language_info": {
   "codemirror_mode": {
    "name": "ipython",
    "version": 3
   },
   "file_extension": ".py",
   "mimetype": "text/x-python",
   "name": "python",
   "nbconvert_exporter": "python",
   "pygments_lexer": "ipython3",
   "version": "3.9.6"
  }
 },
 "nbformat": 4,
 "nbformat_minor": 5
}
