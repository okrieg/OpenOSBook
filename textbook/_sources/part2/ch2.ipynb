{
 "cells": [
  {
   "cell_type": "markdown",
   "id": "0c9881ec-fdd7-43c3-8d4f-c0ba25604f61",
   "metadata": {},
   "source": [
    "# Applying what we know"
   ]
  },
  {
   "cell_type": "code",
   "execution_count": null,
   "id": "ac8b4427-82f6-4595-9873-6237066db2c5",
   "metadata": {},
   "outputs": [],
   "source": []
  }
 ],
 "metadata": {
  "kernelspec": {
   "display_name": "Python 3 (ipykernel)",
   "language": "python",
   "name": "python3"
  },
  "language_info": {
   "codemirror_mode": {
    "name": "ipython",
    "version": 3
   },
   "file_extension": ".py",
   "mimetype": "text/x-python",
   "name": "python",
   "nbconvert_exporter": "python",
   "pygments_lexer": "ipython3",
   "version": "3.9.6"
  }
 },
 "nbformat": 4,
 "nbformat_minor": 5
}
