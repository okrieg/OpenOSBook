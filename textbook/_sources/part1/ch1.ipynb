{
 "cells": [
  {
   "cell_type": "markdown",
   "id": "c20bffe2-d852-4b42-9c80-e43dbe8ebc45",
   "metadata": {},
   "source": [
    "# Introduction"
   ]
  },
  {
   "cell_type": "markdown",
   "id": "5942212f-37f3-418e-b3cb-d852552e32cc",
   "metadata": {},
   "source": [
    "In the first part of this book we will introduce the foundations of our topic.  \n",
    "\n",
    "This is Orran testing a tiny change\n",
    "\n",
    "## Overview\n",
    "\n",
    "What a grand adventure we have begun.\n"
   ]
  },
  {
   "cell_type": "code",
   "execution_count": null,
   "id": "7be097d8-e9a2-4491-9e9e-ccf456698754",
   "metadata": {},
   "outputs": [],
   "source": []
  }
 ],
 "metadata": {
  "kernelspec": {
   "display_name": "Python 3 (ipykernel)",
   "language": "python",
   "name": "python3"
  },
  "language_info": {
   "codemirror_mode": {
    "name": "ipython",
    "version": 3
   },
   "file_extension": ".py",
   "mimetype": "text/x-python",
   "name": "python",
   "nbconvert_exporter": "python",
   "pygments_lexer": "ipython3",
   "version": "3.9.6"
  }
 },
 "nbformat": 4,
 "nbformat_minor": 5
}
